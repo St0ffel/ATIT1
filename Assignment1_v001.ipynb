{
 "cells": [
  {
   "cell_type": "markdown",
   "metadata": {},
   "source": [
    "# Imports"
   ]
  },
  {
   "cell_type": "code",
   "execution_count": 47,
   "metadata": {},
   "outputs": [
    {
     "data": {
      "text/plain": [
       "<Figure size 1080x576 with 0 Axes>"
      ]
     },
     "metadata": {},
     "output_type": "display_data"
    }
   ],
   "source": [
    "# common / KNN imports\n",
    "import tensorflow as tf\n",
    "import numpy as np\n",
    "import matplotlib.pyplot as plt\n",
    "import seaborn as sns\n",
    "from sklearn.manifold import TSNE\n",
    "import scipy.spatial.distance\n",
    "from collections import Counter\n",
    "import pandas as pd\n",
    "import sklearn\n",
    "from sklearn.linear_model import LinearRegression\n",
    "plt.set_cmap('gray')"
   ]
  },
  {
   "cell_type": "code",
   "execution_count": 2,
   "metadata": {},
   "outputs": [],
   "source": [
    "#-----------------------------------------------\n",
    "# Load MNIST Data\n",
    "#-----------------------------------------------\n",
    "mnist_data = tf.keras.datasets.mnist.load_data()\n",
    "\n",
    "# Get Training set\n",
    "train = mnist_data[0]\n",
    "x_mnist_train_full, y_mnist_train_full = train[0], train[1]\n",
    "\n",
    "# Get Test set\n",
    "test = mnist_data[1]\n",
    "x_mnist_test_full, y_mnist_test_full = test[0], test[1]\n",
    "\n",
    "n_mnist_train = x_mnist_train_full.shape[0]\n",
    "n_mnist_test =x_mnist_test_full.shape[0]\n",
    "\n",
    "m = x_mnist_train_full.shape[1]**2\n",
    "\n",
    "x_mnist_train_full = x_mnist_train_full.reshape([n_mnist_train, m])\n",
    "x_mnist_test_full = x_mnist_test_full.reshape([n_mnist_test, m])\n"
   ]
  },
  {
   "cell_type": "code",
   "execution_count": 3,
   "metadata": {},
   "outputs": [],
   "source": [
    "#-----------------------------------------------\n",
    "# Create MNIST Subset\n",
    "#-----------------------------------------------\n",
    "\n",
    "# Create train subset\n",
    "idx = np.random.randint(n_mnist_train, size= 1000)\n",
    "x_mnist_train = x_mnist_train_full[idx]\n",
    "y_mnist_train = y_mnist_train_full[idx]\n",
    "\n",
    "# Create test subset\n",
    "idx = np.random.randint(n_mnist_test, size= 30)\n",
    "x_mnist_test = x_mnist_test_full[idx]\n",
    "y_mnist_test = y_mnist_test_full[idx]\n",
    "\n",
    "def set_mnist_subsets(train_size, test_size):\n",
    "    global n_mnist_train\n",
    "    global n_mnist_test\n",
    "    global x_mnist_train\n",
    "    global y_mnist_train\n",
    "    global x_mnist_test\n",
    "    global y_mnist_test\n",
    "    \n",
    "    idx = np.random.randint(n_mnist_train, size= train_size)\n",
    "    x_mnist_train = x_mnist_train_full[idx]\n",
    "    y_mnist_train = y_mnist_train_full[idx]\n",
    "    idx = np.random.randint(n_mnist_test, size= test_size)\n",
    "    x_mnist_test = x_mnist_test_full[idx]\n",
    "    y_mnist_test = y_mnist_test_full[idx]"
   ]
  },
  {
   "cell_type": "code",
   "execution_count": 4,
   "metadata": {},
   "outputs": [
    {
     "name": "stdout",
     "output_type": "stream",
     "text": [
      "Downloading data from https://www.cs.toronto.edu/~kriz/cifar-10-python.tar.gz\n",
      "170500096/170498071 [==============================] - 245s 1us/step\n",
      "(50000, 32, 32)\n"
     ]
    }
   ],
   "source": [
    "#-----------------------------------------------\n",
    "# Load CIFAR data\n",
    "#-----------------------------------------------\n",
    "\n",
    "cifar = tf.keras.datasets.cifar10.load_data()[0]\n",
    "x_cifar, y_cifar = cifar[0], cifar[1]\n",
    "\n",
    "# Convert to grayscale\n",
    "x_cifar = np.dot(x_cifar[...,:3], [0.299, 0.587, 0.114])\n",
    "print(x_cifar.shape)\n",
    "\n",
    "n_x_cifar = x_cifar.shape[0]\n",
    "m_x_cifar = x_cifar.shape[1]**2\n",
    "\n",
    "x_cifar = x_cifar.reshape([n_x_cifar, m_x_cifar])\n"
   ]
  },
  {
   "cell_type": "code",
   "execution_count": 5,
   "metadata": {},
   "outputs": [
    {
     "name": "stdout",
     "output_type": "stream",
     "text": [
      "(30, 1024)\n",
      "(30,)\n",
      "(1000, 1024)\n",
      "(1000,)\n",
      "0\n"
     ]
    }
   ],
   "source": [
    "#-----------------------------------------------\n",
    "# Create Cifar Subset\n",
    "#-----------------------------------------------\n",
    "idx = np.random.randint(n_x_cifar, size=1030)\n",
    "x_cifar_sample = x_cifar[idx]\n",
    "y_cifar_sample = y_cifar[idx]\n",
    "\n",
    "# Create test & train set\n",
    "x_cifar_test = x_cifar_sample[:30]\n",
    "y_cifar_test = y_cifar_sample[:30,0]\n",
    "\n",
    "x_cifar_train = x_cifar_sample[30:]\n",
    "y_cifar_train = y_cifar_sample[30:,0]\n",
    "\n",
    "def set_cifar_subsets(train_size, test_size):\n",
    "    global n_x_cifar\n",
    "    global x_cifar_train\n",
    "    global y_cifar_train\n",
    "    global x_cifar_test\n",
    "    global y_cifar_test\n",
    "    \n",
    "    idx = np.random.randint(n_x_cifar, size= train_size + test_size)\n",
    "    x_cifar_sample = x_cifar[idx]\n",
    "    y_cifar_sample = y_cifar[idx]\n",
    "\n",
    "    # Create test & train set\n",
    "    x_cifar_test = x_cifar_sample[:test_size]\n",
    "    y_cifar_test = y_cifar_sample[:test_size,0]\n",
    "\n",
    "    x_cifar_train = x_cifar_sample[test_size:]\n",
    "    y_cifar_train = y_cifar_sample[test_size:,0]\n",
    "\n",
    "\n",
    "print(x_cifar_test.shape)\n",
    "print(y_cifar_test.shape)\n",
    "print(x_cifar_train.shape)\n",
    "print(y_cifar_train.shape)\n",
    "print(y_cifar_train[1])"
   ]
  },
  {
   "cell_type": "markdown",
   "metadata": {},
   "source": [
    "# Aufgaben"
   ]
  },
  {
   "cell_type": "markdown",
   "metadata": {},
   "source": [
    "## A KNN"
   ]
  },
  {
   "cell_type": "markdown",
   "metadata": {},
   "source": [
    "#### How many distances you need to calculate if you have 60,000 samples in the trainingset for 50 samples?\n",
    "Man muss 3.000.000 Abstände berechnen.\n",
    "#### How many distances do you need to calculate if you have n samples im the trainingset?\n",
    "Man muss immer n * 50 Abstände berechnen, d.h. bei 3 Samples müsste man 150 Abstände berechnen, bei 90.000 dann 4.500.000"
   ]
  },
  {
   "cell_type": "markdown",
   "metadata": {},
   "source": [
    "## B KNN"
   ]
  },
  {
   "cell_type": "code",
   "execution_count": 6,
   "metadata": {},
   "outputs": [],
   "source": [
    "def knn(k, x_train, y_train, x_test):\n",
    "    dists = scipy.spatial.distance.cdist(x_train, x_test, metric='euclid')\n",
    "    idx_nearest = np.argpartition(dists, k, axis=0)[:k]\n",
    "    idx_nearest = np.swapaxes(idx_nearest, 0, 1)\n",
    "    #print(idx_nearest)\n",
    "\n",
    "    closest_points_labels = y_train[idx_nearest]\n",
    "    y_test_predictions = []\n",
    "    \n",
    "    for index, predicted_labels in enumerate(closest_points_labels):\n",
    "        y_test_predictions.append(np.bincount(predicted_labels).argmax())\n",
    "    return y_test_predictions"
   ]
  },
  {
   "cell_type": "code",
   "execution_count": 7,
   "metadata": {},
   "outputs": [],
   "source": [
    "def knn_print_error_rate(y_test,  y_test_predictions):\n",
    "    \n",
    "    correct = 0\n",
    "    \n",
    "    correct_labels = (y_test)\n",
    "    \n",
    "    numbers_count = Counter(correct_labels)\n",
    "    \n",
    "    numbers_correct = dict.fromkeys(numbers_count.keys(), 0)\n",
    "    \n",
    "    #numbers_error_rate = dict.fromkeys(numbers_count.keys(), None)\n",
    "    \n",
    "    \n",
    "    n = correct_labels.shape[0]\n",
    "    \n",
    "    for index, prediction in enumerate( y_test_predictions):\n",
    "        if prediction == correct_labels[index]:\n",
    "            correct += 1\n",
    "            numbers_correct[prediction] += 1\n",
    "        \n",
    "    error_rate = 1- (correct / n)\n",
    "    \n",
    "    \n",
    "    for key in sorted(numbers_count):\n",
    "        count = numbers_count[key]\n",
    "        correct = numbers_correct[key]\n",
    "        error = 1 - numbers_correct[key] / numbers_count[key]\n",
    "        print(\"Label:\", key)\n",
    "        print(\"  \", correct, \"out of\", count, \"recognized correctly | Errorrate:\", error*100, \"%\")\n",
    "        \n",
    "    print(\"\\n\"+\"Resulting errorrate:\", error_rate*100, \"%\")"
   ]
  },
  {
   "cell_type": "code",
   "execution_count": 8,
   "metadata": {},
   "outputs": [],
   "source": [
    "set_mnist_subsets(10000,30)"
   ]
  },
  {
   "cell_type": "code",
   "execution_count": 9,
   "metadata": {},
   "outputs": [
    {
     "name": "stdout",
     "output_type": "stream",
     "text": [
      "[2, 9, 4, 5, 0, 4, 0, 2, 6, 3, 7, 0, 5, 4, 4, 1, 6, 0, 3, 2, 0, 4, 2, 3, 6, 0, 1, 9, 7, 8] \n",
      "\n",
      "-------------------------------------\n",
      "  2NN  \n",
      "-------------------------------------\n",
      "Predictions:\n",
      "[2, 9, 4, 5, 0, 2, 0, 2, 6, 3, 7, 0, 3, 4, 4, 1, 6, 0, 3, 2, 0, 6, 2, 3, 6, 0, 1, 9, 7, 8] \n",
      "\n",
      "Label: 0\n",
      "   6 out of 6 recognized correctly | Errorrate: 0.0 %\n",
      "Label: 1\n",
      "   2 out of 2 recognized correctly | Errorrate: 0.0 %\n",
      "Label: 2\n",
      "   4 out of 4 recognized correctly | Errorrate: 0.0 %\n",
      "Label: 3\n",
      "   3 out of 3 recognized correctly | Errorrate: 0.0 %\n",
      "Label: 4\n",
      "   3 out of 5 recognized correctly | Errorrate: 40.0 %\n",
      "Label: 5\n",
      "   1 out of 2 recognized correctly | Errorrate: 50.0 %\n",
      "Label: 6\n",
      "   3 out of 3 recognized correctly | Errorrate: 0.0 %\n",
      "Label: 7\n",
      "   2 out of 2 recognized correctly | Errorrate: 0.0 %\n",
      "Label: 8\n",
      "   1 out of 1 recognized correctly | Errorrate: 0.0 %\n",
      "Label: 9\n",
      "   2 out of 2 recognized correctly | Errorrate: 0.0 %\n",
      "\n",
      "Resulting errorrate: 9.999999999999998 %\n",
      "-------------------------------------\n",
      "  4NN  \n",
      "-------------------------------------\n",
      "Predictions:\n",
      "[2, 9, 4, 5, 0, 2, 0, 2, 6, 3, 7, 0, 5, 4, 4, 1, 6, 0, 3, 2, 0, 6, 2, 3, 6, 0, 1, 9, 7, 8] \n",
      "\n",
      "Label: 0\n",
      "   6 out of 6 recognized correctly | Errorrate: 0.0 %\n",
      "Label: 1\n",
      "   2 out of 2 recognized correctly | Errorrate: 0.0 %\n",
      "Label: 2\n",
      "   4 out of 4 recognized correctly | Errorrate: 0.0 %\n",
      "Label: 3\n",
      "   3 out of 3 recognized correctly | Errorrate: 0.0 %\n",
      "Label: 4\n",
      "   3 out of 5 recognized correctly | Errorrate: 40.0 %\n",
      "Label: 5\n",
      "   2 out of 2 recognized correctly | Errorrate: 0.0 %\n",
      "Label: 6\n",
      "   3 out of 3 recognized correctly | Errorrate: 0.0 %\n",
      "Label: 7\n",
      "   2 out of 2 recognized correctly | Errorrate: 0.0 %\n",
      "Label: 8\n",
      "   1 out of 1 recognized correctly | Errorrate: 0.0 %\n",
      "Label: 9\n",
      "   2 out of 2 recognized correctly | Errorrate: 0.0 %\n",
      "\n",
      "Resulting errorrate: 6.666666666666665 %\n",
      "-------------------------------------\n",
      "  8NN  \n",
      "-------------------------------------\n",
      "Predictions:\n",
      "[2, 9, 4, 5, 0, 4, 0, 2, 6, 3, 7, 0, 3, 4, 4, 1, 6, 0, 3, 2, 0, 6, 2, 3, 6, 0, 1, 9, 7, 8] \n",
      "\n",
      "Label: 0\n",
      "   6 out of 6 recognized correctly | Errorrate: 0.0 %\n",
      "Label: 1\n",
      "   2 out of 2 recognized correctly | Errorrate: 0.0 %\n",
      "Label: 2\n",
      "   4 out of 4 recognized correctly | Errorrate: 0.0 %\n",
      "Label: 3\n",
      "   3 out of 3 recognized correctly | Errorrate: 0.0 %\n",
      "Label: 4\n",
      "   4 out of 5 recognized correctly | Errorrate: 19.999999999999996 %\n",
      "Label: 5\n",
      "   1 out of 2 recognized correctly | Errorrate: 50.0 %\n",
      "Label: 6\n",
      "   3 out of 3 recognized correctly | Errorrate: 0.0 %\n",
      "Label: 7\n",
      "   2 out of 2 recognized correctly | Errorrate: 0.0 %\n",
      "Label: 8\n",
      "   1 out of 1 recognized correctly | Errorrate: 0.0 %\n",
      "Label: 9\n",
      "   2 out of 2 recognized correctly | Errorrate: 0.0 %\n",
      "\n",
      "Resulting errorrate: 6.666666666666665 %\n"
     ]
    }
   ],
   "source": [
    "predictions2 = knn(2, x_mnist_train, y_mnist_train, x_mnist_test)\n",
    "predictions4 = knn(4, x_mnist_train, y_mnist_train, x_mnist_test)\n",
    "predictions8 = knn(8, x_mnist_train, y_mnist_train, x_mnist_test)\n",
    "\n",
    "print(list(y_mnist_test), \"\\n\")\n",
    "\n",
    "print(\"-------------------------------------\")\n",
    "print(\"  2NN  \")\n",
    "print(\"-------------------------------------\")\n",
    "print(\"Predictions:\")\n",
    "print(predictions2, \"\\n\")\n",
    "knn_print_error_rate(y_mnist_test, predictions2)\n",
    "\n",
    "print(\"-------------------------------------\")\n",
    "print(\"  4NN  \")\n",
    "print(\"-------------------------------------\")\n",
    "print(\"Predictions:\")\n",
    "print(predictions4, \"\\n\")\n",
    "knn_print_error_rate(y_mnist_test, predictions4)\n",
    "\n",
    "print(\"-------------------------------------\")\n",
    "print(\"  8NN  \")\n",
    "print(\"-------------------------------------\")\n",
    "print(\"Predictions:\")\n",
    "print(predictions8, \"\\n\")\n",
    "knn_print_error_rate(y_mnist_test,predictions8)\n"
   ]
  },
  {
   "cell_type": "markdown",
   "metadata": {},
   "source": [
    "##### What is the error rate of KNN on the test set?\n",
    "Die Errorrate beim ersten Testen (mit k=2, train = 10.000, test = 30) war 6%.  \n",
    "Beim testen mit neuen subsets gab es auch Errorraten zwischen 3 - 16%\n",
    "##### What is the error rate for each label (number)?\n",
    "Die Errorraten beim ersten Testen (mit k=2) waren:\n",
    "* 0 - 0.0%\n",
    "* 1 - 0.0%\n",
    "* 2 - 0.0%\n",
    "* 3 - 0.0%\n",
    "* 4 - 33.0% (2/3)\n",
    "* 5 - 20.0% (4/5)\n",
    "* 6 - 0.0%\n",
    "* 7 - 0.0%\n",
    "* 8 - 0.0%\n",
    "* 9 - 0.0%  \n",
    "  \n",
    "Beim testen mit anderen Subsets fällt auf, dass es bei den Zahlen 0-2 tendenziell niedrigere Fehlerquoten gibt als beim Rest.\n",
    "##### How does the choice of k influence the result?\n",
    "Beim ersten Testen hat sich die Errorrate mit zunehmendem k verbessert:\n",
    "\n",
    "* k = 2: 6%\n",
    "* k = 4: 3%\n",
    "* k = 8: 3%  \n",
    "  \n",
    "Beim Testen mit anderen Subsets ist aufgefallen, dass k sich nicht immer auf die Errorquote auswirkt, aber k=4 tendenziell niedrigere Errorraten für unsere Test- und Traingrößen hatte."
   ]
  },
  {
   "cell_type": "markdown",
   "metadata": {},
   "source": [
    "## C K-means MNIST"
   ]
  },
  {
   "cell_type": "code",
   "execution_count": 17,
   "metadata": {},
   "outputs": [],
   "source": [
    "def kmeans_train(k, it, x_train, y_train):\n",
    "    \n",
    "    # init centroids\n",
    "    idx_centroid = np.random.randint(x_train.shape[0], size=k)\n",
    "    centroids = x_train[idx_centroid]\n",
    "    \n",
    "    # calc distances\n",
    "    dists = scipy.spatial.distance.cdist(x_train, centroids, metric='euclid')\n",
    "    \n",
    "    # find nearest centroids\n",
    "    labels = np.argmin(dists, axis=1)\n",
    "\n",
    "    # train model for q iterations\n",
    "    for j in range(it):\n",
    "        \n",
    "        # calc distances\n",
    "        dists = scipy.spatial.distance.cdist(x_train, centroids, metric='euclid')\n",
    "        \n",
    "        # label according to nearest centroids\n",
    "        labels = np.argmin(dists, axis=1)\n",
    "        \n",
    "        # get new centroids\n",
    "        centroid_list = [x_train[labels == i].mean(0) for i in range(k)]\n",
    "        centroids = np.stack(centroid_list)\n",
    "        \n",
    "        \n",
    "        # print results\n",
    "\n",
    "    for i in range(k):\n",
    "    \n",
    "        size = y_train[labels == i].shape[0]\n",
    "        bincount = np.bincount(y_train[labels == i])\n",
    "        mode = bincount.argmax()\n",
    "        correct = bincount[mode]\n",
    "        percentage = correct / size\n",
    "    \n",
    "        print('group', i)\n",
    "        print(\"-------------------------------------\")\n",
    "        print(\"majority label\", mode, \"(size:\", size, \")\")\n",
    "        print(\"correct\", correct)\n",
    "        print(\"size\", size)\n",
    "        print(\"Percentage of majority class:\", percentage*100, \"%\", \"\\n\")"
   ]
  },
  {
   "cell_type": "code",
   "execution_count": 11,
   "metadata": {},
   "outputs": [],
   "source": [
    "set_mnist_subsets(1000,30)"
   ]
  },
  {
   "cell_type": "code",
   "execution_count": 12,
   "metadata": {},
   "outputs": [
    {
     "name": "stdout",
     "output_type": "stream",
     "text": [
      "[t-SNE] Computing 121 nearest neighbors...\n",
      "[t-SNE] Indexed 1000 samples in 0.059s...\n",
      "[t-SNE] Computed neighbors for 1000 samples in 3.396s...\n",
      "[t-SNE] Computed conditional probabilities for sample 1000 / 1000\n",
      "[t-SNE] Mean sigma: 647.825039\n",
      "[t-SNE] KL divergence after 250 iterations with early exaggeration: 67.246094\n",
      "[t-SNE] KL divergence after 300 iterations: 1.172977\n"
     ]
    }
   ],
   "source": [
    "k_mnist = 10\n",
    "itr_means = 30\n",
    "\n",
    "_tsne = TSNE(n_components=2, verbose=1, perplexity=40, n_iter=300)\n",
    "embedding = _tsne.fit_transform(x_mnist_train)"
   ]
  },
  {
   "cell_type": "code",
   "execution_count": 13,
   "metadata": {},
   "outputs": [
    {
     "name": "stdout",
     "output_type": "stream",
     "text": [
      "group 0\n",
      "-------------------------------------\n",
      "label 4 (size: 154 )\n",
      "correct 59\n",
      "size 154\n",
      "Percentage of majority class: 38.311688311688314 % \n",
      "\n",
      "group 1\n",
      "-------------------------------------\n",
      "label 6 (size: 90 )\n",
      "correct 76\n",
      "size 90\n",
      "Percentage of majority class: 84.44444444444444 % \n",
      "\n",
      "group 2\n",
      "-------------------------------------\n",
      "label 0 (size: 43 )\n",
      "correct 41\n",
      "size 43\n",
      "Percentage of majority class: 95.34883720930233 % \n",
      "\n",
      "group 3\n",
      "-------------------------------------\n",
      "label 0 (size: 54 )\n",
      "correct 51\n",
      "size 54\n",
      "Percentage of majority class: 94.44444444444444 % \n",
      "\n",
      "group 4\n",
      "-------------------------------------\n",
      "label 1 (size: 116 )\n",
      "correct 44\n",
      "size 116\n",
      "Percentage of majority class: 37.93103448275862 % \n",
      "\n",
      "group 5\n",
      "-------------------------------------\n",
      "label 3 (size: 111 )\n",
      "correct 57\n",
      "size 111\n",
      "Percentage of majority class: 51.35135135135135 % \n",
      "\n",
      "group 6\n",
      "-------------------------------------\n",
      "label 2 (size: 75 )\n",
      "correct 65\n",
      "size 75\n",
      "Percentage of majority class: 86.66666666666667 % \n",
      "\n",
      "group 7\n",
      "-------------------------------------\n",
      "label 1 (size: 116 )\n",
      "correct 76\n",
      "size 116\n",
      "Percentage of majority class: 65.51724137931035 % \n",
      "\n",
      "group 8\n",
      "-------------------------------------\n",
      "label 7 (size: 136 )\n",
      "correct 77\n",
      "size 136\n",
      "Percentage of majority class: 56.61764705882353 % \n",
      "\n",
      "group 9\n",
      "-------------------------------------\n",
      "label 8 (size: 105 )\n",
      "correct 46\n",
      "size 105\n",
      "Percentage of majority class: 43.80952380952381 % \n",
      "\n"
     ]
    }
   ],
   "source": [
    "kmeans_train(k_mnist, itr_means, x_mnist_train, y_mnist_train)"
   ]
  },
  {
   "cell_type": "markdown",
   "metadata": {},
   "source": [
    "#### Do this for 10, 100, 1000 iterations\n",
    "##### What is the majority class of each cluster?\n",
    "##### What is the percentage of the majority class in each cluster?\n",
    "##### Does each number have a cluster?\n",
    "##### If not, which hasn’t?\n"
   ]
  },
  {
   "cell_type": "markdown",
   "metadata": {},
   "source": [
    "## D MNIST understanding"
   ]
  },
  {
   "cell_type": "markdown",
   "metadata": {},
   "source": [
    "##### Some numbers are more difficult to predict with KNN and to cluster with K-means. Show why.  Start with examples, and get more general"
   ]
  },
  {
   "cell_type": "markdown",
   "metadata": {},
   "source": [
    "## E KNN and K-means CIFAR"
   ]
  },
  {
   "cell_type": "code",
   "execution_count": 14,
   "metadata": {},
   "outputs": [],
   "source": [
    "set_cifar_subsets(10000,50)"
   ]
  },
  {
   "cell_type": "code",
   "execution_count": 15,
   "metadata": {},
   "outputs": [
    {
     "name": "stdout",
     "output_type": "stream",
     "text": [
      "[3, 8, 9, 2, 7, 0, 7, 7, 1, 9, 8, 1, 3, 2, 2, 7, 5, 7, 1, 3, 9, 8, 7, 7, 3, 9, 6, 2, 0, 5, 6, 7, 2, 2, 5, 5, 0, 2, 7, 8, 7, 8, 2, 5, 4, 6, 7, 0, 3, 7] \n",
      "\n",
      "-------------------------------------\n",
      "  2NN  \n",
      "-------------------------------------\n",
      "Predictions:\n",
      "[3, 8, 0, 2, 0, 4, 0, 3, 1, 1, 0, 8, 0, 2, 4, 3, 2, 2, 2, 0, 8, 8, 4, 2, 3, 8, 0, 2, 0, 5, 4, 3, 2, 0, 3, 2, 8, 8, 2, 2, 7, 2, 4, 2, 8, 8, 7, 8, 3, 2] \n",
      "\n",
      "Label: 0\n",
      "   1 out of 4 recognized correctly | Errorrate: 75.0 %\n",
      "Label: 1\n",
      "   1 out of 3 recognized correctly | Errorrate: 66.66666666666667 %\n",
      "Label: 2\n",
      "   4 out of 8 recognized correctly | Errorrate: 50.0 %\n",
      "Label: 3\n",
      "   3 out of 5 recognized correctly | Errorrate: 40.0 %\n",
      "Label: 4\n",
      "   0 out of 1 recognized correctly | Errorrate: 100.0 %\n",
      "Label: 5\n",
      "   1 out of 5 recognized correctly | Errorrate: 80.0 %\n",
      "Label: 6\n",
      "   0 out of 3 recognized correctly | Errorrate: 100.0 %\n",
      "Label: 7\n",
      "   2 out of 12 recognized correctly | Errorrate: 83.33333333333334 %\n",
      "Label: 8\n",
      "   2 out of 5 recognized correctly | Errorrate: 60.0 %\n",
      "Label: 9\n",
      "   0 out of 4 recognized correctly | Errorrate: 100.0 %\n",
      "\n",
      "Resulting errorrate: 72.0 %\n",
      "-------------------------------------\n",
      "  4NN  \n",
      "-------------------------------------\n",
      "Predictions:\n",
      "[3, 8, 0, 2, 2, 4, 0, 0, 1, 1, 4, 8, 4, 2, 4, 7, 0, 4, 2, 5, 8, 8, 2, 6, 3, 8, 0, 0, 0, 5, 0, 2, 2, 0, 3, 2, 8, 8, 8, 4, 7, 2, 4, 2, 8, 8, 8, 8, 3, 2] \n",
      "\n",
      "Label: 0\n",
      "   1 out of 4 recognized correctly | Errorrate: 75.0 %\n",
      "Label: 1\n",
      "   1 out of 3 recognized correctly | Errorrate: 66.66666666666667 %\n",
      "Label: 2\n",
      "   3 out of 8 recognized correctly | Errorrate: 62.5 %\n",
      "Label: 3\n",
      "   3 out of 5 recognized correctly | Errorrate: 40.0 %\n",
      "Label: 4\n",
      "   0 out of 1 recognized correctly | Errorrate: 100.0 %\n",
      "Label: 5\n",
      "   1 out of 5 recognized correctly | Errorrate: 80.0 %\n",
      "Label: 6\n",
      "   0 out of 3 recognized correctly | Errorrate: 100.0 %\n",
      "Label: 7\n",
      "   2 out of 12 recognized correctly | Errorrate: 83.33333333333334 %\n",
      "Label: 8\n",
      "   2 out of 5 recognized correctly | Errorrate: 60.0 %\n",
      "Label: 9\n",
      "   0 out of 4 recognized correctly | Errorrate: 100.0 %\n",
      "\n",
      "Resulting errorrate: 74.0 %\n",
      "-------------------------------------\n",
      "  8NN  \n",
      "-------------------------------------\n",
      "Predictions:\n",
      "[6, 8, 0, 6, 4, 0, 0, 3, 1, 0, 2, 8, 0, 2, 4, 7, 2, 3, 2, 4, 8, 8, 4, 2, 3, 8, 0, 0, 0, 0, 4, 3, 2, 0, 6, 2, 8, 8, 2, 4, 7, 4, 0, 4, 8, 6, 2, 8, 3, 2] \n",
      "\n",
      "Label: 0\n",
      "   2 out of 4 recognized correctly | Errorrate: 50.0 %\n",
      "Label: 1\n",
      "   1 out of 3 recognized correctly | Errorrate: 66.66666666666667 %\n",
      "Label: 2\n",
      "   2 out of 8 recognized correctly | Errorrate: 75.0 %\n",
      "Label: 3\n",
      "   2 out of 5 recognized correctly | Errorrate: 60.0 %\n",
      "Label: 4\n",
      "   0 out of 1 recognized correctly | Errorrate: 100.0 %\n",
      "Label: 5\n",
      "   0 out of 5 recognized correctly | Errorrate: 100.0 %\n",
      "Label: 6\n",
      "   1 out of 3 recognized correctly | Errorrate: 66.66666666666667 %\n",
      "Label: 7\n",
      "   2 out of 12 recognized correctly | Errorrate: 83.33333333333334 %\n",
      "Label: 8\n",
      "   2 out of 5 recognized correctly | Errorrate: 60.0 %\n",
      "Label: 9\n",
      "   0 out of 4 recognized correctly | Errorrate: 100.0 %\n",
      "\n",
      "Resulting errorrate: 76.0 %\n"
     ]
    }
   ],
   "source": [
    "predictions2 = knn(2, x_cifar_train, y_cifar_train, x_cifar_test)\n",
    "predictions4 = knn(4, x_cifar_train, y_cifar_train, x_cifar_test)\n",
    "predictions8 = knn(8, x_cifar_train, y_cifar_train, x_cifar_test)\n",
    "\n",
    "print(list(y_cifar_test), \"\\n\")\n",
    "\n",
    "print(\"-------------------------------------\")\n",
    "print(\"  2NN  \")\n",
    "print(\"-------------------------------------\")\n",
    "print(\"Predictions:\")\n",
    "print(predictions2, \"\\n\")\n",
    "knn_print_error_rate(y_cifar_test, predictions2)\n",
    "\n",
    "print(\"-------------------------------------\")\n",
    "print(\"  4NN  \")\n",
    "print(\"-------------------------------------\")\n",
    "print(\"Predictions:\")\n",
    "print(predictions4, \"\\n\")\n",
    "knn_print_error_rate(y_cifar_test, predictions4)\n",
    "\n",
    "print(\"-------------------------------------\")\n",
    "print(\"  8NN  \")\n",
    "print(\"-------------------------------------\")\n",
    "print(\"Predictions:\")\n",
    "print(predictions8, \"\\n\")\n",
    "knn_print_error_rate(y_cifar_test,predictions8)\n"
   ]
  },
  {
   "cell_type": "code",
   "execution_count": 16,
   "metadata": {},
   "outputs": [
    {
     "name": "stdout",
     "output_type": "stream",
     "text": [
      "group 0\n",
      "-------------------------------------\n",
      "label 5 (size: 87 )\n",
      "correct 16\n",
      "size 87\n",
      "Percentage of majority class: 18.39080459770115 % \n",
      "\n",
      "group 1\n",
      "-------------------------------------\n",
      "label 9 (size: 126 )\n",
      "correct 37\n",
      "size 126\n",
      "Percentage of majority class: 29.365079365079367 % \n",
      "\n",
      "group 2\n",
      "-------------------------------------\n",
      "label 7 (size: 154 )\n",
      "correct 27\n",
      "size 154\n",
      "Percentage of majority class: 17.532467532467532 % \n",
      "\n",
      "group 3\n",
      "-------------------------------------\n",
      "label 0 (size: 68 )\n",
      "correct 11\n",
      "size 68\n",
      "Percentage of majority class: 16.176470588235293 % \n",
      "\n",
      "group 4\n",
      "-------------------------------------\n",
      "label 2 (size: 105 )\n",
      "correct 21\n",
      "size 105\n",
      "Percentage of majority class: 20.0 % \n",
      "\n",
      "group 5\n",
      "-------------------------------------\n",
      "label 8 (size: 63 )\n",
      "correct 25\n",
      "size 63\n",
      "Percentage of majority class: 39.682539682539684 % \n",
      "\n",
      "group 6\n",
      "-------------------------------------\n",
      "label 5 (size: 62 )\n",
      "correct 15\n",
      "size 62\n",
      "Percentage of majority class: 24.193548387096776 % \n",
      "\n",
      "group 7\n",
      "-------------------------------------\n",
      "label 1 (size: 204 )\n",
      "correct 35\n",
      "size 204\n",
      "Percentage of majority class: 17.15686274509804 % \n",
      "\n",
      "group 8\n",
      "-------------------------------------\n",
      "label 3 (size: 1 )\n",
      "correct 1\n",
      "size 1\n",
      "Percentage of majority class: 100.0 % \n",
      "\n",
      "group 9\n",
      "-------------------------------------\n",
      "label 6 (size: 130 )\n",
      "correct 28\n",
      "size 130\n",
      "Percentage of majority class: 21.53846153846154 % \n",
      "\n"
     ]
    }
   ],
   "source": [
    "set_cifar_subsets(1000,30)\n",
    "k_cifar = 10\n",
    "itr_means = 30\n",
    "kmeans_train(k_cifar, itr_means, x_cifar_train, y_cifar_train)"
   ]
  },
  {
   "cell_type": "markdown",
   "metadata": {},
   "source": [
    "transform cifar-10 to grayscale.\n",
    "* Does knn work similarly good?\n",
    "* Does k-means work similarly good?\n",
    "* Demonstrate this similar to B, C and D"
   ]
  },
  {
   "cell_type": "markdown",
   "metadata": {},
   "source": [
    "## F Linear regression BOSTON"
   ]
  },
  {
   "cell_type": "markdown",
   "metadata": {},
   "source": [
    "Train a linear regression model on the BOSTON dataset to predict median\n",
    "values of houses. Test it on the test set. Show the code how you did it! What\n",
    "dependent variables (columns) have the biggest influence?"
   ]
  },
  {
   "cell_type": "code",
   "execution_count": 38,
   "metadata": {},
   "outputs": [
    {
     "name": "stdout",
     "output_type": "stream",
     "text": [
      " RM and lstat have the biggest influence \n"
     ]
    },
    {
     "data": {
      "image/png": "[encoded data removed]",
      "text/plain": [
       "<Figure size 1080x576 with 2 Axes>"
      ]
     },
     "metadata": {
      "needs_background": "light"
     },
     "output_type": "display_data"
    }
   ],
   "source": [
    "plt.rcParams['figure.figsize'] = [15, 8]\n",
    "\n",
    "np.set_printoptions(suppress=True)\n",
    "\n",
    "boston = tf.keras.datasets.boston_housing.load_data()[0]\n",
    "X = boston[0]\n",
    "Y = boston[1]\n",
    "\n",
    "\n",
    "c = [\"crim\", \"zn\", \"indus\", \"chas\", \"nox\", \"rm\", \"age\", \"dis\", \"rad\", \"tax\", \"ptratio\", \"black\", \"lstat\", 'medv']\n",
    "boston = pd.DataFrame({c: X[:, i] for i, c in enumerate(c[:-1])})\n",
    "boston[c[-1]] = Y\n",
    "#add median \n",
    "np.median(boston)\n",
    "\n",
    "boston.head()\n",
    "\n",
    "#Correlation Matrix\n",
    "correlation_matrix = boston.corr().round(2)\n",
    "\n",
    "sns.heatmap(data= correlation_matrix, annot=True)\n",
    "\n",
    "print(\" RM and lstat have the biggest influence \")"
   ]
  },
  {
   "cell_type": "markdown",
   "metadata": {},
   "source": [
    "#Variables with the biggest influence "
   ]
  },
  {
   "cell_type": "code",
   "execution_count": 41,
   "metadata": {},
   "outputs": [
    {
     "data": {
      "image/png": "[encoded data removed]",
      "text/plain": [
       "<Figure size 1440x360 with 2 Axes>"
      ]
     },
     "metadata": {
      "needs_background": "light"
     },
     "output_type": "display_data"
    }
   ],
   "source": [
    "plt.figure(figsize=(20, 5))\n",
    "\n",
    "features = ['lstat', 'rm']\n",
    "target = boston['medv']\n",
    "\n",
    "for i, col in enumerate(features):\n",
    "    plt.subplot(1, len(features) , i+1)\n",
    "    x = boston[col]\n",
    "    y = target\n",
    "    plt.scatter(x, y, marker='o')\n",
    "    plt.title(col)\n",
    "    plt.xlabel(col)\n",
    "    plt.ylabel('medv')\n",
    "    \n",
    "    #the price increases linearly as the value of rm increases\n",
    "    #the price decreases linearly as the value of lstat increases"
   ]
  },
  {
   "cell_type": "raw",
   "metadata": {},
   "source": []
  },
  {
   "cell_type": "markdown",
   "metadata": {},
   "source": [
    "#### Linear Regression "
   ]
  },
  {
   "cell_type": "code",
   "execution_count": 53,
   "metadata": {},
   "outputs": [
    {
     "name": "stdout",
     "output_type": "stream",
     "text": [
      "The model performance for training set\n",
      "--------------------------------------\n",
      "RMSE is 4.690927502994279\n",
      "R2 score is 0.7399643695249463\n",
      "\n",
      "\n",
      "The model performance for testing set\n",
      "--------------------------------------\n",
      "RMSE is 4.690927502994279\n",
      "R2 score is 0.7399643695249463\n"
     ]
    }
   ],
   "source": [
    "boston = tf.keras.datasets.boston_housing.load_data()\n",
    "X_train = boston[0][0]\n",
    "Y_train = boston[0][1]\n",
    "\n",
    "X_test = boston[0][0]\n",
    "Y_test = boston[0][1]\n",
    "\n",
    "lin_model = LinearRegression()\n",
    "lin_model.fit(X_train, Y_train)\n",
    "\n",
    "# model evaluation for training set\n",
    "y_train_predict = lin_model.predict(X_train)\n",
    "rmse = (np.sqrt(sklearn.metrics.mean_squared_error(Y_train, y_train_predict)))\n",
    "r2 = sklearn.metrics.r2_score(Y_train, y_train_predict)\n",
    "\n",
    "print(\"The model performance for training set\")\n",
    "print(\"--------------------------------------\")\n",
    "print('RMSE is {}'.format(rmse))\n",
    "print('R2 score is {}'.format(r2))\n",
    "print(\"\\n\")\n",
    "\n",
    "# model evaluation for testing set\n",
    "y_test_predict = lin_model.predict(X_test)\n",
    "rmse = (np.sqrt(sklearn.metrics.mean_squared_error(Y_test, y_test_predict)))\n",
    "r2 = sklearn.metrics.r2_score(Y_test, y_test_predict)\n",
    "\n",
    "print(\"The model performance for testing set\")\n",
    "print(\"--------------------------------------\")\n",
    "print('RMSE is {}'.format(rmse))\n",
    "print('R2 score is {}'.format(r2))"
   ]
  },
  {
   "cell_type": "markdown",
   "metadata": {},
   "source": [
    "## G Logistik regression MNIST"
   ]
  },
  {
   "cell_type": "markdown",
   "metadata": {},
   "source": [
    "Evalute logistic regression as B and D on MNIST"
   ]
  },
  {
   "cell_type": "markdown",
   "metadata": {},
   "source": [
    "## H Feedback"
   ]
  },
  {
   "cell_type": "markdown",
   "metadata": {},
   "source": [
    "How much time did you work on this assignment and how often did you\n",
    "meet?\n",
    "* Did you use Google Colab or Anaconda?\n",
    "* What was your favourite excercise? Why?\n",
    "* What excercise did you like least? Why?"
   ]
  },
  {
   "cell_type": "code",
   "execution_count": null,
   "metadata": {},
   "outputs": [],
   "source": []
  }
 ],
 "metadata": {
  "kernelspec": {
   "display_name": "Python 3",
   "language": "python",
   "name": "python3"
  },
  "language_info": {
   "codemirror_mode": {
    "name": "ipython",
    "version": 3
   },
   "file_extension": ".py",
   "mimetype": "text/x-python",
   "name": "python",
   "nbconvert_exporter": "python",
   "pygments_lexer": "ipython3",
   "version": "3.7.3"
  }
 },
 "nbformat": 4,
 "nbformat_minor": 2
}
