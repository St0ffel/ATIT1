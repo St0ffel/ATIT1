{
 "cells": [
  {
   "cell_type": "markdown",
   "metadata": {},
   "source": [
    "# Imports"
   ]
  },
  {
   "cell_type": "code",
   "execution_count": 4,
   "metadata": {},
   "outputs": [],
   "source": [
    "# common / KNN imports\n",
    "import tensorflow as tf\n",
    "import numpy as np\n",
    "import matplotlib.pyplot as plt\n",
    "import seaborn as sns\n",
    "from sklearn.manifold import TSNE\n",
    "import scipy.spatial.distance\n",
    "from collections import Counter\n",
    "plt.set_cmap('gray')"
   ]
  },
  {
   "cell_type": "markdown",
   "metadata": {},
   "source": [
    "# Aufgaben"
   ]
  },
  {
   "cell_type": "markdown",
   "metadata": {},
   "source": [
    "## A KNN"
   ]
  },
  {
   "cell_type": "markdown",
   "metadata": {},
   "source": [
    "#### How many distances you need to calculate if you have 60,000 samples in the trainingset for 50 samples?\n",
    "Man muss 3.000.000 Abstände berechnen.\n",
    "#### How many distances do you need to calculate if you have n samples im the trainingset?\n",
    "Man muss immer n * 50 Abstände berechnen, d.h. bei 3 Samples müsste man 150 Abstände berechnen, bei 90.000 dann 4.500.000"
   ]
  },
  {
   "cell_type": "markdown",
   "metadata": {},
   "source": [
    "## B KNN"
   ]
  },
  {
   "cell_type": "code",
   "execution_count": 9,
   "metadata": {},
   "outputs": [],
   "source": [
    "def knn(k, x_train, y_train, x_test):\n",
    "    dists = scipy.spatial.distance.cdist(x_train, x_test, metric='euclid')\n",
    "    idx_nearest = np.argpartition(dists, k, axis=0)[:k]\n",
    "    idx_nearest = np.swapaxes(idx_nearest, 0, 1)\n",
    "    #print(idx_nearest)\n",
    "\n",
    "    closest_points_labels = y_train[idx_nearest]\n",
    "    y_test_predictions = []\n",
    "    \n",
    "    for index, predicted_labels in enumerate(closest_points_labels):\n",
    "        y_test_predictions.append(np.bincount(predicted_labels).argmax())\n",
    "    return y_test_predictions"
   ]
  },
  {
   "cell_type": "code",
   "execution_count": 10,
   "metadata": {},
   "outputs": [],
   "source": [
    "def knn_print_error_rate(y_test,  y_test_predictions):\n",
    "    \n",
    "    correct = 0\n",
    "    \n",
    "    correct_labels = (y_test)\n",
    "    \n",
    "    numbers_count = Counter(correct_labels)\n",
    "    \n",
    "    numbers_correct = dict.fromkeys(numbers_count.keys(), 0)\n",
    "    \n",
    "    #numbers_error_rate = dict.fromkeys(numbers_count.keys(), None)\n",
    "    \n",
    "    \n",
    "    n = correct_labels.shape[0]\n",
    "    \n",
    "    for index, prediction in enumerate( y_test_predictions):\n",
    "        if prediction == correct_labels[index]:\n",
    "            correct += 1\n",
    "            numbers_correct[prediction] += 1\n",
    "        \n",
    "    error_rate = 1- (correct / n)\n",
    "    \n",
    "    \n",
    "    for key in sorted(numbers_count):\n",
    "        count = numbers_count[key]\n",
    "        correct = numbers_correct[key]\n",
    "        error = 1 - numbers_correct[key] / numbers_count[key]\n",
    "        print(\"Label:\", key)\n",
    "        print(\"  \", correct, \"out of\", count, \"recognized correctly | Errorrate:\", error*100, \"%\")\n",
    "        \n",
    "    print(\"\\n\"+\"Resulting errorrate:\", error_rate*100, \"%\")"
   ]
  },
  {
   "cell_type": "code",
   "execution_count": 11,
   "metadata": {},
   "outputs": [],
   "source": [
    "#Load dataset\n",
    "mnist_data = tf.keras.datasets.mnist.load_data()\n",
    "\n",
    "# Get Training set\n",
    "train = mnist_data[0]\n",
    "X_train, Y_train = train[0], train[1]\n",
    "\n",
    "# Get Test set\n",
    "test = mnist_data[1]\n",
    "X_test, Y_test = test[0], test[1]\n",
    "\n",
    "n_train = X_train.shape[0]\n",
    "n_test = X_test.shape[0]\n",
    "\n",
    "m = X_train.shape[1]**2\n",
    "\n",
    "X_train = X_train.reshape([n_train, m])\n",
    "X_test = X_test.reshape([n_test, m])\n",
    "\n",
    "# Create train subset\n",
    "idx = np.random.randint(n_train, size=10000)\n",
    "x_train_sample = X_train[idx]\n",
    "y_train_sample = Y_train[idx]\n",
    "\n",
    "# Create test subset\n",
    "idx = np.random.randint(n_test, size=30)\n",
    "x_test_sample = X_test[idx]\n",
    "y_test_sample = Y_test[idx]"
   ]
  },
  {
   "cell_type": "code",
   "execution_count": 12,
   "metadata": {},
   "outputs": [
    {
     "name": "stdout",
     "output_type": "stream",
     "text": [
      "[1, 9, 3, 5, 6, 6, 7, 7, 1, 1, 9, 5, 3, 8, 2, 5, 7, 8, 7, 0, 6, 6, 9, 1, 8, 1, 0, 4, 1, 7] \n",
      "\n",
      "-------------------------------------\n",
      "  2NN  \n",
      "-------------------------------------\n",
      "Predictions:\n",
      "[1, 9, 3, 5, 6, 6, 7, 7, 1, 1, 9, 3, 3, 8, 2, 0, 7, 1, 7, 0, 6, 6, 9, 1, 8, 1, 0, 4, 1, 7] \n",
      "\n",
      "Label: 0\n",
      "   2 out of 2 recognized correctly | Errorrate: 0.0 %\n",
      "Label: 1\n",
      "   6 out of 6 recognized correctly | Errorrate: 0.0 %\n",
      "Label: 2\n",
      "   1 out of 1 recognized correctly | Errorrate: 0.0 %\n",
      "Label: 3\n",
      "   2 out of 2 recognized correctly | Errorrate: 0.0 %\n",
      "Label: 4\n",
      "   1 out of 1 recognized correctly | Errorrate: 0.0 %\n",
      "Label: 5\n",
      "   1 out of 3 recognized correctly | Errorrate: 66.66666666666667 %\n",
      "Label: 6\n",
      "   4 out of 4 recognized correctly | Errorrate: 0.0 %\n",
      "Label: 7\n",
      "   5 out of 5 recognized correctly | Errorrate: 0.0 %\n",
      "Label: 8\n",
      "   2 out of 3 recognized correctly | Errorrate: 33.333333333333336 %\n",
      "Label: 9\n",
      "   3 out of 3 recognized correctly | Errorrate: 0.0 %\n",
      "\n",
      "Resulting errorrate: 9.999999999999998 %\n",
      "-------------------------------------\n",
      "  4NN  \n",
      "-------------------------------------\n",
      "Predictions:\n",
      "[1, 9, 3, 5, 6, 6, 7, 7, 1, 1, 9, 5, 3, 8, 2, 5, 7, 1, 7, 0, 6, 6, 9, 1, 8, 1, 0, 4, 1, 7] \n",
      "\n",
      "Label: 0\n",
      "   2 out of 2 recognized correctly | Errorrate: 0.0 %\n",
      "Label: 1\n",
      "   6 out of 6 recognized correctly | Errorrate: 0.0 %\n",
      "Label: 2\n",
      "   1 out of 1 recognized correctly | Errorrate: 0.0 %\n",
      "Label: 3\n",
      "   2 out of 2 recognized correctly | Errorrate: 0.0 %\n",
      "Label: 4\n",
      "   1 out of 1 recognized correctly | Errorrate: 0.0 %\n",
      "Label: 5\n",
      "   3 out of 3 recognized correctly | Errorrate: 0.0 %\n",
      "Label: 6\n",
      "   4 out of 4 recognized correctly | Errorrate: 0.0 %\n",
      "Label: 7\n",
      "   5 out of 5 recognized correctly | Errorrate: 0.0 %\n",
      "Label: 8\n",
      "   2 out of 3 recognized correctly | Errorrate: 33.333333333333336 %\n",
      "Label: 9\n",
      "   3 out of 3 recognized correctly | Errorrate: 0.0 %\n",
      "\n",
      "Resulting errorrate: 3.3333333333333326 %\n",
      "-------------------------------------\n",
      "  8NN  \n",
      "-------------------------------------\n",
      "Predictions:\n",
      "[1, 9, 3, 5, 6, 6, 7, 7, 1, 1, 9, 5, 3, 8, 2, 5, 7, 1, 7, 0, 6, 6, 9, 1, 8, 1, 0, 4, 1, 7] \n",
      "\n",
      "Label: 0\n",
      "   2 out of 2 recognized correctly | Errorrate: 0.0 %\n",
      "Label: 1\n",
      "   6 out of 6 recognized correctly | Errorrate: 0.0 %\n",
      "Label: 2\n",
      "   1 out of 1 recognized correctly | Errorrate: 0.0 %\n",
      "Label: 3\n",
      "   2 out of 2 recognized correctly | Errorrate: 0.0 %\n",
      "Label: 4\n",
      "   1 out of 1 recognized correctly | Errorrate: 0.0 %\n",
      "Label: 5\n",
      "   3 out of 3 recognized correctly | Errorrate: 0.0 %\n",
      "Label: 6\n",
      "   4 out of 4 recognized correctly | Errorrate: 0.0 %\n",
      "Label: 7\n",
      "   5 out of 5 recognized correctly | Errorrate: 0.0 %\n",
      "Label: 8\n",
      "   2 out of 3 recognized correctly | Errorrate: 33.333333333333336 %\n",
      "Label: 9\n",
      "   3 out of 3 recognized correctly | Errorrate: 0.0 %\n",
      "\n",
      "Resulting errorrate: 3.3333333333333326 %\n"
     ]
    }
   ],
   "source": [
    "predictions2 = knn(2, x_train_sample, y_train_sample, x_test_sample)\n",
    "predictions4 = knn(4, x_train_sample, y_train_sample, x_test_sample)\n",
    "predictions8 = knn(8, x_train_sample, y_train_sample, x_test_sample)\n",
    "\n",
    "print(list(y_test_sample), \"\\n\")\n",
    "\n",
    "print(\"-------------------------------------\")\n",
    "print(\"  2NN  \")\n",
    "print(\"-------------------------------------\")\n",
    "print(\"Predictions:\")\n",
    "print(predictions2, \"\\n\")\n",
    "knn_print_error_rate(y_test_sample, predictions2)\n",
    "\n",
    "print(\"-------------------------------------\")\n",
    "print(\"  4NN  \")\n",
    "print(\"-------------------------------------\")\n",
    "print(\"Predictions:\")\n",
    "print(predictions4, \"\\n\")\n",
    "knn_print_error_rate(y_test_sample,predictions4)\n",
    "\n",
    "print(\"-------------------------------------\")\n",
    "print(\"  8NN  \")\n",
    "print(\"-------------------------------------\")\n",
    "print(\"Predictions:\")\n",
    "print(predictions8, \"\\n\")\n",
    "knn_print_error_rate(y_test_sample,predictions8)\n"
   ]
  },
  {
   "cell_type": "markdown",
   "metadata": {},
   "source": [
    "##### What is the error rate of KNN on the test set?\n",
    "Die Errorrate beim ersten Testen (mit k=2, train = 10.000, test = 30) war 6%.  \n",
    "Beim testen mit neuen subsets gab es auch Errorraten zwischen 3 - 16%\n",
    "##### What is the error rate for each label (number)?\n",
    "Die Errorraten beim ersten Testen (mit k=2) waren:\n",
    "* 0 - 0.0%\n",
    "* 1 - 0.0%\n",
    "* 2 - 0.0%\n",
    "* 3 - 0.0%\n",
    "* 4 - 33.0% (2/3)\n",
    "* 5 - 20.0% (4/5)\n",
    "* 6 - 0.0%\n",
    "* 7 - 0.0%\n",
    "* 8 - 0.0%\n",
    "* 9 - 0.0%  \n",
    "  \n",
    "Beim testen mit anderen Subsets fällt auf, dass es bei den Zahlen 0-2 tendenziell niedrigere Fehlerquoten gibt als beim Rest.\n",
    "##### How does the choice of k influence the result?\n",
    "Beim ersten Testen hat sich die Errorrate mit zunehmendem k verbessert:\n",
    "\n",
    "* k = 2: 6%\n",
    "* k = 4: 3%\n",
    "* k = 8: 3%  \n",
    "  \n",
    "Beim Testen mit anderen Subsets ist aufgefallen, dass k sich nicht immer auf die Errorquote auswirkt, aber k=4 tendenziell niedrigere Errorraten für unsere Test- und Traingrößen hatte."
   ]
  },
  {
   "cell_type": "markdown",
   "metadata": {},
   "source": [
    "## C K-means MNIST"
   ]
  },
  {
   "cell_type": "code",
   "execution_count": 13,
   "metadata": {},
   "outputs": [
    {
     "name": "stdout",
     "output_type": "stream",
     "text": [
      "[t-SNE] Computing 121 nearest neighbors...\n",
      "[t-SNE] Indexed 1000 samples in 0.023s...\n",
      "[t-SNE] Computed neighbors for 1000 samples in 1.404s...\n",
      "[t-SNE] Computed conditional probabilities for sample 1000 / 1000\n",
      "[t-SNE] Mean sigma: 609.178494\n",
      "[t-SNE] KL divergence after 250 iterations with early exaggeration: 67.772636\n",
      "[t-SNE] KL divergence after 300 iterations: 1.376749\n"
     ]
    }
   ],
   "source": [
    "# load subset\n",
    "n_sample = 1000\n",
    "n = X_train.shape[0]\n",
    "\n",
    "idx = np.random.randint(n, size=n_sample)\n",
    "x_mnist = X_train[idx]\n",
    "y_mnist = Y_train[idx]\n",
    "\n",
    "k_mnist = 10\n",
    "it_mnist = 30\n",
    "_tsne = TSNE(n_components=2, verbose=1, perplexity=40, n_iter=300)\n",
    "embedding = _tsne.fit_transform(x_sample)"
   ]
  },
  {
   "cell_type": "code",
   "execution_count": 32,
   "metadata": {},
   "outputs": [],
   "source": [
    "def kmeans_train(k, it, x_train):\n",
    "    \n",
    "    # init centroids\n",
    "    idx_centroid = np.random.randint(x_train.shape[0], size=k)\n",
    "    centroids = x_train[idx_centroid]\n",
    "    \n",
    "    # calc distances\n",
    "    dists = scipy.spatial.distance.cdist(x_train, centroids, metric='euclid')\n",
    "    \n",
    "    # find nearest centroids\n",
    "    labels = np.argmin(dists, axis=1)\n",
    "\n",
    "    # train model for q iterations\n",
    "    for j in range(it):\n",
    "        \n",
    "        # calc distances\n",
    "        dists = scipy.spatial.distance.cdist(x_train, centroids, metric='euclid')\n",
    "        \n",
    "        # label according to nearest centroids\n",
    "        labels = np.argmin(dists, axis=1)\n",
    "        \n",
    "        # get new centroids\n",
    "        centroid_list = [x_train[labels == i].mean(0) for i in range(k)]\n",
    "        centroids = np.stack(centroid_list)\n",
    "        "
   ]
  },
  {
   "cell_type": "code",
   "execution_count": 33,
   "metadata": {},
   "outputs": [
    {
     "ename": "TypeError",
     "evalue": "kmeans_train() missing 2 required positional arguments: 'q' and 'x_train'",
     "output_type": "error",
     "traceback": [
      "\u001b[1;31m---------------------------------------------------------------------------\u001b[0m",
      "\u001b[1;31mTypeError\u001b[0m                                 Traceback (most recent call last)",
      "\u001b[1;32m<ipython-input-33-a614cd531db8>\u001b[0m in \u001b[0;36m<module>\u001b[1;34m\u001b[0m\n\u001b[1;32m----> 1\u001b[1;33m \u001b[0mkmeans_train\u001b[0m\u001b[1;33m(\u001b[0m\u001b[1;36m100\u001b[0m\u001b[1;33m)\u001b[0m\u001b[1;33m\u001b[0m\u001b[1;33m\u001b[0m\u001b[0m\n\u001b[0m",
      "\u001b[1;31mTypeError\u001b[0m: kmeans_train() missing 2 required positional arguments: 'q' and 'x_train'"
     ]
    }
   ],
   "source": [
    "kmeans_train(k_mnist, it_mnist, x_mnist)"
   ]
  },
  {
   "cell_type": "code",
   "execution_count": 31,
   "metadata": {},
   "outputs": [
    {
     "name": "stdout",
     "output_type": "stream",
     "text": [
      "group 0\n",
      "-------------------------------------\n",
      "label 1 (size: 215 )\n",
      "correct 92\n",
      "size 215\n",
      "Percentage of majority class: 42.7906976744186 % \n",
      "\n",
      "group 1\n",
      "-------------------------------------\n",
      "label 7 (size: 30 )\n",
      "correct 15\n",
      "size 30\n",
      "Percentage of majority class: 50.0 % \n",
      "\n",
      "group 2\n",
      "-------------------------------------\n",
      "label 2 (size: 90 )\n",
      "correct 52\n",
      "size 90\n",
      "Percentage of majority class: 57.77777777777777 % \n",
      "\n",
      "group 3\n",
      "-------------------------------------\n",
      "label 7 (size: 101 )\n",
      "correct 56\n",
      "size 101\n",
      "Percentage of majority class: 55.44554455445545 % \n",
      "\n",
      "group 4\n",
      "-------------------------------------\n",
      "label 4 (size: 75 )\n",
      "correct 32\n",
      "size 75\n",
      "Percentage of majority class: 42.66666666666667 % \n",
      "\n",
      "group 5\n",
      "-------------------------------------\n",
      "label 5 (size: 82 )\n",
      "correct 30\n",
      "size 82\n",
      "Percentage of majority class: 36.58536585365854 % \n",
      "\n",
      "group 6\n",
      "-------------------------------------\n",
      "label 3 (size: 96 )\n",
      "correct 34\n",
      "size 96\n",
      "Percentage of majority class: 35.41666666666667 % \n",
      "\n",
      "group 7\n",
      "-------------------------------------\n",
      "label 8 (size: 56 )\n",
      "correct 31\n",
      "size 56\n",
      "Percentage of majority class: 55.35714285714286 % \n",
      "\n",
      "group 8\n",
      "-------------------------------------\n",
      "label 9 (size: 118 )\n",
      "correct 34\n",
      "size 118\n",
      "Percentage of majority class: 28.8135593220339 % \n",
      "\n",
      "group 9\n",
      "-------------------------------------\n",
      "label 6 (size: 137 )\n",
      "correct 50\n",
      "size 137\n",
      "Percentage of majority class: 36.496350364963504 % \n",
      "\n"
     ]
    }
   ],
   "source": [
    "# print results\n",
    "\n",
    "for i in range(k):\n",
    "    \n",
    "    size = y_sample[labels == i].shape[0]\n",
    "    bincount = np.bincount(y_sample[labels == i])\n",
    "    mode = bincount.argmax()\n",
    "    correct = bincount[mode]\n",
    "    percentage = correct / size\n",
    "    \n",
    "    print('group', i)\n",
    "    print(\"-------------------------------------\")\n",
    "    print(\"label\", mode, \"(size:\", size, \")\")\n",
    "    print(\"correct\", correct)\n",
    "    print(\"size\", size)\n",
    "    print(\"Percentage of majority class:\", percentage*100, \"%\", \"\\n\")"
   ]
  },
  {
   "cell_type": "markdown",
   "metadata": {},
   "source": [
    "#### Do this for 10, 100, 1000 iterations\n",
    "##### What is the majority class of each cluster?\n",
    "##### What is the percentage of the majority class in each cluster?\n",
    "##### Does each number have a cluster?\n",
    "##### If not, which hasn’t?\n"
   ]
  },
  {
   "cell_type": "markdown",
   "metadata": {},
   "source": [
    "## D MNIST understanding"
   ]
  },
  {
   "cell_type": "markdown",
   "metadata": {},
   "source": [
    "##### Some numbers are more difficult to predict with KNN and to cluster with K-means. Show why.  Start with examples, and get more general"
   ]
  },
  {
   "cell_type": "markdown",
   "metadata": {},
   "source": [
    "## E KNN and K-means CIFAR"
   ]
  },
  {
   "cell_type": "code",
   "execution_count": null,
   "metadata": {},
   "outputs": [],
   "source": [
    "# Load dataset\n",
    "\n",
    "cifar = tf.keras.datasets.cifar10.load_data()[0]\n",
    "x_cifar, y_cifar = cifar[0], cifar[1]\n",
    "\n",
    "# Convert to grayscale\n",
    "x_cifar = np.dot(x_cifar[...,:3], [0.299, 0.587, 0.114])\n",
    "print(x_cifar.shape)\n",
    "\n",
    "n_x_cifar = x_cifar.shape[0]\n",
    "m_x_cifar = x_cifar.shape[1]**2\n",
    "\n",
    "x_cifar = x_cifar.reshape([n_x_cifar, m_x_cifar])"
   ]
  },
  {
   "cell_type": "code",
   "execution_count": null,
   "metadata": {},
   "outputs": [],
   "source": [
    "# Create subset\n",
    "idx = np.random.randint(n_x_cifar, size=1030)\n",
    "x_cifar_sample = x_cifar[idx]\n",
    "y_cifar_sample = y_cifar[idx]\n",
    "\n",
    "# Create test & train set\n",
    "x_cifar_test = x_cifar_sample[:30]\n",
    "y_cifar_test = y_cifar_sample[:30]\n",
    "\n",
    "x_cifar_train = x_cifar_sample[30:]\n",
    "y_cifar_train = y_cifar_sample[30:]\n",
    "\n",
    "print(x_cifar_test.shape)\n",
    "print(y_cifar_test.shape)\n",
    "print(x_cifar_train.shape)\n",
    "print(y_cifar_train.shape)"
   ]
  },
  {
   "cell_type": "markdown",
   "metadata": {},
   "source": [
    "transform cifar-10 to grayscale.\n",
    "* Does knn work similarly good?\n",
    "* Does k-means work similarly good?\n",
    "* Demonstrate this similar to B, C and D"
   ]
  },
  {
   "cell_type": "markdown",
   "metadata": {},
   "source": [
    "## F Linear regression BOSTON"
   ]
  },
  {
   "cell_type": "markdown",
   "metadata": {},
   "source": [
    "Train a linear regression model on the BOSTON dataset to predict median\n",
    "values of houses. Test it on the test set. Show the code how you did it! What\n",
    "dependent variables (columns) have the biggest influence?"
   ]
  },
  {
   "cell_type": "markdown",
   "metadata": {},
   "source": [
    "## G Logistik regression MNIST"
   ]
  },
  {
   "cell_type": "markdown",
   "metadata": {},
   "source": [
    "Evalute logistic regression as B and D on MNIST"
   ]
  },
  {
   "cell_type": "markdown",
   "metadata": {},
   "source": [
    "## H Feedback"
   ]
  },
  {
   "cell_type": "markdown",
   "metadata": {},
   "source": [
    "How much time did you work on this assignment and how often did you\n",
    "meet?\n",
    "* Did you use Google Colab or Anaconda?\n",
    "* What was your favourite excercise? Why?\n",
    "* What excercise did you like least? Why?"
   ]
  },
  {
   "cell_type": "code",
   "execution_count": null,
   "metadata": {},
   "outputs": [],
   "source": []
  }
 ],
 "metadata": {
  "kernelspec": {
   "display_name": "Python 3",
   "language": "python",
   "name": "python3"
  },
  "language_info": {
   "codemirror_mode": {
    "name": "ipython",
    "version": 3
   },
   "file_extension": ".py",
   "mimetype": "text/x-python",
   "name": "python",
   "nbconvert_exporter": "python",
   "pygments_lexer": "ipython3",
   "version": "3.7.3"
  }
 },
 "nbformat": 4,
 "nbformat_minor": 2
}
