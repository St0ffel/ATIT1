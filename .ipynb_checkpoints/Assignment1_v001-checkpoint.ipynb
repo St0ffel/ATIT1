{
 "cells": [
  {
   "cell_type": "markdown",
   "metadata": {},
   "source": [
    "# Imports"
   ]
  },
  {
   "cell_type": "code",
   "execution_count": 35,
   "metadata": {},
   "outputs": [
    {
     "data": {
      "text/plain": [
       "<Figure size 432x288 with 0 Axes>"
      ]
     },
     "metadata": {},
     "output_type": "display_data"
    }
   ],
   "source": [
    "# common / KNN imports\n",
    "import tensorflow as tf\n",
    "import numpy as np\n",
    "import matplotlib.pyplot as plt\n",
    "import seaborn as sns\n",
    "from sklearn.manifold import TSNE\n",
    "import scipy.spatial.distance\n",
    "from collections import Counter\n",
    "plt.set_cmap('gray')"
   ]
  },
  {
   "cell_type": "markdown",
   "metadata": {},
   "source": [
    "# Aufgaben"
   ]
  },
  {
   "cell_type": "markdown",
   "metadata": {},
   "source": [
    "## A KNN"
   ]
  },
  {
   "cell_type": "markdown",
   "metadata": {},
   "source": [
    "#### How many distances you need to calculate if you have 60,000 samples in the trainingset for 50 samples?\n",
    "Man muss 3.000.000 Abstände berechnen.\n",
    "#### How many distances do you need to calculate if you have n samples im the trainingset?\n",
    "Man muss immer n * 50 Abstände berechnen, d.h. bei 3 Samples müsste man 150 Abstände berechnen, bei 90.000 dann 4.500.000"
   ]
  },
  {
   "cell_type": "markdown",
   "metadata": {},
   "source": [
    "## B KNN"
   ]
  },
  {
   "cell_type": "markdown",
   "metadata": {},
   "source": [
    "### What is the error rate of KNN on the test set?"
   ]
  },
  {
   "cell_type": "code",
   "execution_count": 3,
   "metadata": {},
   "outputs": [],
   "source": [
    "def knn(k):\n",
    "    dists = scipy.spatial.distance.cdist(x_train_sample, x_test_sample, metric='euclid')\n",
    "    idx_nearest = np.argpartition(dists, k, axis=0)[:k]\n",
    "    idx_nearest = np.swapaxes(idx_nearest, 0, 1)\n",
    "    #print(idx_nearest)\n",
    "\n",
    "    closest_points_labels = y_train_sample[idx_nearest]\n",
    "    predictions = []\n",
    "    \n",
    "    for index, predicted_labels in enumerate(closest_points_labels):\n",
    "        predictions.append(np.bincount(predicted_labels).argmax())\n",
    "    return predictions"
   ]
  },
  {
   "cell_type": "code",
   "execution_count": 4,
   "metadata": {},
   "outputs": [],
   "source": [
    "def print_error_rate(predictions):\n",
    "    \n",
    "    correct = 0\n",
    "    \n",
    "    correct_labels = (y_test_sample)\n",
    "    \n",
    "    numbers_count = Counter(correct_labels)\n",
    "    \n",
    "    numbers_correct = dict.fromkeys(numbers_count.keys(), 0)\n",
    "    \n",
    "    #numbers_error_rate = dict.fromkeys(numbers_count.keys(), None)\n",
    "    \n",
    "    \n",
    "    n = correct_labels.shape[0]\n",
    "    \n",
    "    for index, prediction in enumerate(predictions):\n",
    "        if prediction == correct_labels[index]:\n",
    "            correct += 1\n",
    "            numbers_correct[prediction] += 1\n",
    "        \n",
    "    error_rate = 1- (correct / n)\n",
    "    \n",
    "    \n",
    "    for key in sorted(numbers_count):\n",
    "        count = numbers_count[key]\n",
    "        correct = numbers_correct[key]\n",
    "        error = 1 - numbers_correct[key] / numbers_count[key]\n",
    "        print(\"Label:\", key)\n",
    "        print(\"  \", correct, \"out of\", count, \"recognized correctly | Errorrate:\", error*100, \"%\")\n",
    "        \n",
    "    print(\"\\n\"+\"Resulting errorrate:\", error_rate)"
   ]
  },
  {
   "cell_type": "code",
   "execution_count": 5,
   "metadata": {},
   "outputs": [],
   "source": [
    "#Load dataset\n",
    "mnist_data = tf.keras.datasets.mnist.load_data()\n",
    "\n",
    "# Get Training set\n",
    "train = mnist_data[0]\n",
    "X_train, Y_train = train[0], train[1]\n",
    "\n",
    "# Get Test set\n",
    "test = mnist_data[1]\n",
    "X_test, Y_test = test[0], test[1]\n",
    "\n",
    "n_train = X_train.shape[0]\n",
    "n_test = X_test.shape[0]\n",
    "\n",
    "m = X_train.shape[1]**2\n",
    "\n",
    "X_train = X_train.reshape([n_train, m])\n",
    "X_test = X_test.reshape([n_test, m])\n",
    "\n",
    "# Create train subset\n",
    "idx = np.random.randint(n_train, size=10000)\n",
    "x_train_sample = X_train[idx]\n",
    "y_train_sample = Y_train[idx]\n",
    "\n",
    "# Create test subset\n",
    "idx = np.random.randint(n_test, size=30)\n",
    "x_test_sample = X_test[idx]\n",
    "y_test_sample = Y_test[idx]"
   ]
  },
  {
   "cell_type": "code",
   "execution_count": 6,
   "metadata": {},
   "outputs": [
    {
     "name": "stdout",
     "output_type": "stream",
     "text": [
      "[6, 5, 5, 5, 4, 5, 6, 9, 4, 3, 7, 5, 3, 6, 4, 2, 7, 9, 2, 9, 2, 5, 4, 6, 0, 4, 5, 8, 3, 5] \n",
      "\n",
      "-------------------------------------\n",
      "  2NN  \n",
      "-------------------------------------\n",
      "Predictions:\n",
      "[6, 5, 5, 5, 9, 5, 6, 9, 4, 3, 7, 5, 3, 6, 4, 2, 7, 9, 1, 9, 2, 5, 4, 6, 0, 4, 5, 8, 8, 5] \n",
      "\n",
      "Label: 0\n",
      "   1 out of 1 recognized correctly | Errorrate: 0.0 %\n",
      "Label: 2\n",
      "   2 out of 3 recognized correctly | Errorrate: 33.333333333333336 %\n",
      "Label: 3\n",
      "   2 out of 3 recognized correctly | Errorrate: 33.333333333333336 %\n",
      "Label: 4\n",
      "   4 out of 5 recognized correctly | Errorrate: 19.999999999999996 %\n",
      "Label: 5\n",
      "   8 out of 8 recognized correctly | Errorrate: 0.0 %\n",
      "Label: 6\n",
      "   4 out of 4 recognized correctly | Errorrate: 0.0 %\n",
      "Label: 7\n",
      "   2 out of 2 recognized correctly | Errorrate: 0.0 %\n",
      "Label: 8\n",
      "   1 out of 1 recognized correctly | Errorrate: 0.0 %\n",
      "Label: 9\n",
      "   3 out of 3 recognized correctly | Errorrate: 0.0 %\n",
      "\n",
      "Resulting errorrate: 0.09999999999999998\n",
      "-------------------------------------\n",
      "  4NN  \n",
      "-------------------------------------\n",
      "Predictions:\n",
      "[6, 5, 5, 5, 9, 5, 6, 9, 4, 3, 7, 5, 3, 6, 4, 2, 7, 9, 1, 9, 2, 5, 4, 6, 0, 4, 5, 8, 3, 5] \n",
      "\n",
      "Label: 0\n",
      "   1 out of 1 recognized correctly | Errorrate: 0.0 %\n",
      "Label: 2\n",
      "   2 out of 3 recognized correctly | Errorrate: 33.333333333333336 %\n",
      "Label: 3\n",
      "   3 out of 3 recognized correctly | Errorrate: 0.0 %\n",
      "Label: 4\n",
      "   4 out of 5 recognized correctly | Errorrate: 19.999999999999996 %\n",
      "Label: 5\n",
      "   8 out of 8 recognized correctly | Errorrate: 0.0 %\n",
      "Label: 6\n",
      "   4 out of 4 recognized correctly | Errorrate: 0.0 %\n",
      "Label: 7\n",
      "   2 out of 2 recognized correctly | Errorrate: 0.0 %\n",
      "Label: 8\n",
      "   1 out of 1 recognized correctly | Errorrate: 0.0 %\n",
      "Label: 9\n",
      "   3 out of 3 recognized correctly | Errorrate: 0.0 %\n",
      "\n",
      "Resulting errorrate: 0.06666666666666665\n",
      "-------------------------------------\n",
      "  8NN  \n",
      "-------------------------------------\n",
      "Predictions:\n",
      "[6, 5, 5, 5, 4, 5, 6, 9, 4, 3, 7, 5, 3, 6, 4, 2, 7, 9, 1, 9, 2, 5, 4, 6, 0, 4, 5, 8, 9, 5] \n",
      "\n",
      "Label: 0\n",
      "   1 out of 1 recognized correctly | Errorrate: 0.0 %\n",
      "Label: 2\n",
      "   2 out of 3 recognized correctly | Errorrate: 33.333333333333336 %\n",
      "Label: 3\n",
      "   2 out of 3 recognized correctly | Errorrate: 33.333333333333336 %\n",
      "Label: 4\n",
      "   5 out of 5 recognized correctly | Errorrate: 0.0 %\n",
      "Label: 5\n",
      "   8 out of 8 recognized correctly | Errorrate: 0.0 %\n",
      "Label: 6\n",
      "   4 out of 4 recognized correctly | Errorrate: 0.0 %\n",
      "Label: 7\n",
      "   2 out of 2 recognized correctly | Errorrate: 0.0 %\n",
      "Label: 8\n",
      "   1 out of 1 recognized correctly | Errorrate: 0.0 %\n",
      "Label: 9\n",
      "   3 out of 3 recognized correctly | Errorrate: 0.0 %\n",
      "\n",
      "Resulting errorrate: 0.06666666666666665\n"
     ]
    }
   ],
   "source": [
    "predictions2 = knn(2)\n",
    "predictions4 = knn(4)\n",
    "predictions8 = knn(8)\n",
    "\n",
    "print(list(y_test_sample), \"\\n\")\n",
    "\n",
    "print(\"-------------------------------------\")\n",
    "print(\"  2NN  \")\n",
    "print(\"-------------------------------------\")\n",
    "print(\"Predictions:\")\n",
    "print(predictions2, \"\\n\")\n",
    "print_error_rate(predictions2)\n",
    "\n",
    "print(\"-------------------------------------\")\n",
    "print(\"  4NN  \")\n",
    "print(\"-------------------------------------\")\n",
    "print(\"Predictions:\")\n",
    "print(predictions4, \"\\n\")\n",
    "print_error_rate(predictions4)\n",
    "\n",
    "print(\"-------------------------------------\")\n",
    "print(\"  8NN  \")\n",
    "print(\"-------------------------------------\")\n",
    "print(\"Predictions:\")\n",
    "print(predictions8, \"\\n\")\n",
    "print_error_rate(predictions8)\n"
   ]
  },
  {
   "cell_type": "markdown",
   "metadata": {},
   "source": [
    "##### What is the error rate of KNN on the test set?\n",
    "Die Errorrate beim ersten Testen (mit k=2, train = 10.000, test = 30) war 6%.  \n",
    "Beim testen mit neuen subsets gab es auch Errorraten zwischen 3 - 16%\n",
    "##### What is the error rate for each label (number)?\n",
    "Die Errorraten beim ersten Testen (mit k=2) waren:\n",
    "* 0 - 0.0%\n",
    "* 1 - 0.0%\n",
    "* 2 - 0.0%\n",
    "* 3 - 0.0%\n",
    "* 4 - 33.0% (2/3)\n",
    "* 5 - 20.0% (4/5)\n",
    "* 6 - 0.0%\n",
    "* 7 - 0.0%\n",
    "* 8 - 0.0%\n",
    "* 9 - 0.0%  \n",
    "  \n",
    "Beim testen mit anderen Subsets fällt auf, dass es bei den Zahlen 0-2 tendenziell niedrigere Fehlerquoten gibt als beim Rest.\n",
    "##### How does the choice of k influence the result?\n",
    "Beim ersten Testen hat sich die Errorrate mit zunehmendem k verbessert:\n",
    "\n",
    "* k = 2: 6%\n",
    "* k = 4: 3%\n",
    "* k = 8: 3%  \n",
    "  \n",
    "Beim Testen mit anderen Subsets ist aufgefallen, dass k sich nicht immer auf die Errorquote auswirkt, aber k=4 tendenziell niedrigere Errorraten für unsere Test- und Traingrößen hatte."
   ]
  },
  {
   "cell_type": "markdown",
   "metadata": {},
   "source": [
    "## C K-means MNIST"
   ]
  },
  {
   "cell_type": "code",
   "execution_count": 41,
   "metadata": {},
   "outputs": [
    {
     "name": "stdout",
     "output_type": "stream",
     "text": [
      "[t-SNE] Computing 121 nearest neighbors...\n",
      "[t-SNE] Indexed 1000 samples in 0.041s...\n",
      "[t-SNE] Computed neighbors for 1000 samples in 3.253s...\n",
      "[t-SNE] Computed conditional probabilities for sample 1000 / 1000\n",
      "[t-SNE] Mean sigma: 624.693700\n",
      "[t-SNE] KL divergence after 250 iterations with early exaggeration: 67.220764\n",
      "[t-SNE] KL divergence after 300 iterations: 1.365417\n"
     ]
    }
   ],
   "source": [
    "# load subset\n",
    "n_sample = 1000\n",
    "\n",
    "idx = np.random.randint(n, size=n_sample)\n",
    "x_sample = X_train[idx]\n",
    "y_sample = Y_train[idx]\n",
    "\n",
    "k = 10\n",
    "q = 30\n",
    "_tsne = TSNE(n_components=2, verbose=1, perplexity=40, n_iter=300)\n",
    "embedding = _tsne.fit_transform(x_sample)\n"
   ]
  },
  {
   "cell_type": "code",
   "execution_count": 42,
   "metadata": {},
   "outputs": [],
   "source": [
    "def kmeans(q)\n",
    "    # init centroids\n",
    "    idx_centroid = np.random.randint(n_sample, size=k)\n",
    "    centroids = x_sample[idx_centroid]\n",
    "    \n",
    "    # calc distances\n",
    "    dists = scipy.spatial.distance.cdist(x_sample, centroids, metric='euclid')\n",
    "    \n",
    "    # find nearest centroids\n",
    "    labels = np.argmin(dists, axis=1)\n",
    "    \n",
    "    \n",
    "    # train model for q iterations\n",
    "    for j in range(q):\n",
    "        \n",
    "        # calc distances\n",
    "        dists = scipy.spatial.distance.cdist(x_sample, centroids, metric='euclid')\n",
    "        \n",
    "        # label according to nearest centroids\n",
    "        labels = np.argmin(dists, axis=1)\n",
    "        \n",
    "        # get new centroids\n",
    "        centroid_list = [x_sample[labels == i].mean(0) for i in range(k)]\n",
    "        centroids = np.stack(centroid_list)\n"
   ]
  },
  {
   "cell_type": "code",
   "execution_count": 43,
   "metadata": {},
   "outputs": [],
   "source": []
  },
  {
   "cell_type": "code",
   "execution_count": 16,
   "metadata": {},
   "outputs": [],
   "source": []
  },
  {
   "cell_type": "code",
   "execution_count": 46,
   "metadata": {},
   "outputs": [
    {
     "data": {
      "text/plain": [
       "<matplotlib.collections.PathCollection at 0x2f05a88c940>"
      ]
     },
     "execution_count": 46,
     "metadata": {},
     "output_type": "execute_result"
    },
    {
     "data": {
      "image/png": "[encoded data removed]",
      "text/plain": [
       "<Figure size 432x288 with 1 Axes>"
      ]
     },
     "metadata": {
      "needs_background": "light"
     },
     "output_type": "display_data"
    }
   ],
   "source": [
    "colors = [color_map[l-1] for l in labels]\n",
    "plt.scatter(embedding[:, 0], embedding[:, 1], c=colors)"
   ]
  },
  {
   "cell_type": "code",
   "execution_count": 53,
   "metadata": {},
   "outputs": [
    {
     "name": "stdout",
     "output_type": "stream",
     "text": [
      "group 0 (46, 784)\n",
      "0\n",
      "43\n",
      "46\n",
      "0.06521739130434778\n",
      "group 1 (48, 784)\n",
      "2\n",
      "26\n",
      "48\n",
      "0.45833333333333337\n",
      "group 2 (114, 784)\n",
      "1\n",
      "54\n",
      "114\n",
      "0.5263157894736843\n",
      "group 3 (125, 784)\n",
      "6\n",
      "80\n",
      "125\n",
      "0.36\n",
      "group 4 (149, 784)\n",
      "7\n",
      "47\n",
      "149\n",
      "0.6845637583892618\n",
      "group 5 (101, 784)\n",
      "1\n",
      "67\n",
      "101\n",
      "0.3366336633663366\n",
      "group 6 (138, 784)\n",
      "3\n",
      "59\n",
      "138\n",
      "0.572463768115942\n",
      "group 7 (43, 784)\n",
      "0\n",
      "39\n",
      "43\n",
      "0.09302325581395354\n",
      "group 8 (84, 784)\n",
      "3\n",
      "39\n",
      "84\n",
      "0.5357142857142857\n",
      "group 9 (152, 784)\n",
      "4\n",
      "59\n",
      "152\n",
      "0.611842105263158\n"
     ]
    }
   ],
   "source": [
    "for i in range(k):\n",
    "    print('group', i, x_sample[labels == i].shape)\n",
    "    print(np.bincount(y_sample[labels == i]).argmax())\n",
    "    \n",
    "    size = y_sample[labels == i].shape[0]\n",
    "    bincount = np.bincount(y_sample[labels == i])\n",
    "    mode = bincount.argmax()\n",
    "    correct = bincount[mode]\n",
    "    error_rate = 1- (correct / size)\n",
    "    print(correct)\n",
    "    print(size)\n",
    "    print(error_rate)"
   ]
  },
  {
   "cell_type": "markdown",
   "metadata": {},
   "source": [
    "#### Do this for 10, 100, 1000 iterations\n",
    "##### What is the majority class of each cluster?\n",
    "##### What is the percentage of the majority class in each cluster?\n",
    "##### Does each number have a cluster?\n",
    "##### If not, which hasn’t?\n"
   ]
  },
  {
   "cell_type": "markdown",
   "metadata": {},
   "source": [
    "## D MNIST understanding"
   ]
  },
  {
   "cell_type": "markdown",
   "metadata": {},
   "source": [
    "## E KNN and K-means CIFAR"
   ]
  },
  {
   "cell_type": "markdown",
   "metadata": {},
   "source": [
    "## F Linear regression BOSTON"
   ]
  },
  {
   "cell_type": "markdown",
   "metadata": {},
   "source": [
    "## G Logistik regression MNIST"
   ]
  },
  {
   "cell_type": "markdown",
   "metadata": {},
   "source": [
    "## H Feedback"
   ]
  },
  {
   "cell_type": "code",
   "execution_count": null,
   "metadata": {},
   "outputs": [],
   "source": []
  }
 ],
 "metadata": {
  "kernelspec": {
   "display_name": "Python 3",
   "language": "python",
   "name": "python3"
  },
  "language_info": {
   "codemirror_mode": {
    "name": "ipython",
    "version": 3
   },
   "file_extension": ".py",
   "mimetype": "text/x-python",
   "name": "python",
   "nbconvert_exporter": "python",
   "pygments_lexer": "ipython3",
   "version": "3.7.3"
  }
 },
 "nbformat": 4,
 "nbformat_minor": 2
}
